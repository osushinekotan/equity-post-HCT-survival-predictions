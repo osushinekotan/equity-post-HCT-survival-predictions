{
 "cells": [
  {
   "cell_type": "code",
   "execution_count": null,
   "metadata": {},
   "outputs": [],
   "source": [
    "!pip download -d /kaggle/working \\\n",
    "    lifelines==0.30.0 \\\n",
    "    category-encoders==2.6.4 \\\n",
    "    catboost==1.2.7 \\\n",
    "    autograd-gamma==0.5.0 \\\n",
    "    rtdl-num-embeddings>=0.0.11 \\\n",
    "    tabpfn>=2.0.0\n",
    "\n",
    "\n",
    "!pip install /kaggle/working/*.whl \\\n",
    "    --force-reinstall \\\n",
    "    --root-user-action ignore \\\n",
    "    --no-deps \\\n",
    "    --no-index \\\n",
    "    --find-links /kaggle/working\n",
    "!ls"
   ]
  }
 ],
 "metadata": {
  "kernelspec": {
   "display_name": ".venv",
   "language": "python",
   "name": "python3"
  },
  "language_info": {
   "name": "python",
   "version": "3.11.9"
  }
 },
 "nbformat": 4,
 "nbformat_minor": 2
}
