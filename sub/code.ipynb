{
 "cells": [
  {
   "cell_type": "code",
   "execution_count": null,
   "metadata": {},
   "outputs": [],
   "source": [
    "!pip install /kaggle/input/equity-post-HCT-survival-predictions-deps/*.whl \\\n",
    "    --force-reinstall \\\n",
    "    --root-user-action ignore \\\n",
    "    --no-index \\\n",
    "    --find-links /kaggle/input/equity-post-HCT-survival-predictions-deps"
   ]
  },
  {
   "cell_type": "code",
   "execution_count": null,
   "metadata": {},
   "outputs": [],
   "source": [
    "# !PYTHONPATH=/kaggle/input/equity-post-HCT-survival-predictions-codes \\\n",
    "#   python /kaggle/input/equity-post-HCT-survival-predictions-codes/experiments/017/inference.py\n",
    "\n",
    "# !PYTHONPATH=/kaggle/input/equity-post-HCT-survival-predictions-codes \\\n",
    "#   python /kaggle/input/equity-post-HCT-survival-predictions-codes/experiments/018/inference.py\n",
    "\n",
    "# !PYTHONPATH=/kaggle/input/equity-post-HCT-survival-predictions-codes \\\n",
    "#   python /kaggle/input/equity-post-HCT-survival-predictions-codes/experiments/019/inference.py\n",
    "\n",
    "# !PYTHONPATH=/kaggle/input/equity-post-HCT-survival-predictions-codes \\\n",
    "#   python /kaggle/input/equity-post-HCT-survival-predictions-codes/experiments/039/inference.py\n",
    "\n",
    "# !PYTHONPATH=/kaggle/input/equity-post-HCT-survival-predictions-codes \\\n",
    "#   python /kaggle/input/equity-post-HCT-survival-predictions-codes/experiments/041/inference.py\n",
    "\n",
    "# !PYTHONPATH=/kaggle/input/equity-post-HCT-survival-predictions-codes \\\n",
    "#   python /kaggle/input/equity-post-HCT-survival-predictions-codes/experiments/042/inference.py\n",
    "\n",
    "# !PYTHONPATH=/kaggle/input/equity-post-HCT-survival-predictions-codes \\\n",
    "#   python /kaggle/input/equity-post-HCT-survival-predictions-codes/experiments/043/inference.py\n",
    "\n",
    "# !PYTHONPATH=/kaggle/input/equity-post-HCT-survival-predictions-codes \\\n",
    "#   python /kaggle/input/equity-post-HCT-survival-predictions-codes/experiments/044/inference.py\n",
    "\n",
    "# !PYTHONPATH=/kaggle/input/equity-post-HCT-survival-predictions-codes \\\n",
    "#   python /kaggle/input/equity-post-HCT-survival-predictions-codes/experiments/045/inference.py"
   ]
  },
  {
   "cell_type": "code",
   "execution_count": null,
   "metadata": {},
   "outputs": [],
   "source": [
    "!PYTHONPATH=/kaggle/input/equity-post-HCT-survival-predictions-codes \\\n",
    "  python /kaggle/input/equity-post-HCT-survival-predictions-codes/experiments/061/inference.py"
   ]
  }
 ],
 "metadata": {
  "kernelspec": {
   "display_name": ".venv",
   "language": "python",
   "name": "python3"
  },
  "language_info": {
   "codemirror_mode": {
    "name": "ipython",
    "version": 3
   },
   "file_extension": ".py",
   "mimetype": "text/x-python",
   "name": "python",
   "nbconvert_exporter": "python",
   "pygments_lexer": "ipython3",
   "version": "3.11.9"
  }
 },
 "nbformat": 4,
 "nbformat_minor": 2
}
