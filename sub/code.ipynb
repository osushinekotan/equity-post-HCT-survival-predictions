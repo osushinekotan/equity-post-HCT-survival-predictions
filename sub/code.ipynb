{
 "cells": [
  {
   "cell_type": "code",
   "execution_count": null,
   "metadata": {},
   "outputs": [],
   "source": [
    "!pip install /kaggle/input/equity-post-HCT-survival-predictions-deps/*.whl \\\n",
    "    --force-reinstall \\\n",
    "    --root-user-action ignore \\\n",
    "    --no-index \\\n",
    "    --find-links /kaggle/input/equity-post-HCT-survival-predictions-deps"
   ]
  },
  {
   "cell_type": "code",
   "execution_count": null,
   "metadata": {},
   "outputs": [],
   "source": [
    "# !PYTHONPATH=/kaggle/input/equity-post-HCT-survival-predictions-codes \\\n",
    "#   python /kaggle/input/equity-post-HCT-survival-predictions-codes/experiments/120/inference.py\n",
    "\n",
    "# !PYTHONPATH=/kaggle/input/equity-post-HCT-survival-predictions-codes \\\n",
    "#   python /kaggle/input/equity-post-HCT-survival-predictions-codes/experiments/121/inference.py\n",
    "\n",
    "# !PYTHONPATH=/kaggle/input/equity-post-HCT-survival-predictions-codes \\\n",
    "#   python /kaggle/input/equity-post-HCT-survival-predictions-codes/experiments/122/inference.py\n",
    "\n",
    "# !PYTHONPATH=/kaggle/input/equity-post-HCT-survival-predictions-codes \\\n",
    "#   python /kaggle/input/equity-post-HCT-survival-predictions-codes/experiments/123/inference.py\n",
    "\n",
    "# !PYTHONPATH=/kaggle/input/equity-post-HCT-survival-predictions-codes \\\n",
    "#   python /kaggle/input/equity-post-HCT-survival-predictions-codes/experiments/124/inference.py\n",
    "\n",
    "# !PYTHONPATH=/kaggle/input/equity-post-HCT-survival-predictions-codes \\\n",
    "#   python /kaggle/input/equity-post-HCT-survival-predictions-codes/experiments/125/inference.py\n",
    "\n",
    "# !PYTHONPATH=/kaggle/input/equity-post-HCT-survival-predictions-codes \\\n",
    "#   python /kaggle/input/equity-post-HCT-survival-predictions-codes/experiments/126/inference.py"
   ]
  },
  {
   "cell_type": "code",
   "execution_count": null,
   "metadata": {},
   "outputs": [],
   "source": [
    "!PYTHONPATH=/kaggle/input/equity-post-HCT-survival-predictions-codes \\\n",
    "  python /kaggle/input/equity-post-HCT-survival-predictions-codes/experiments/137/inference.py"
   ]
  }
 ],
 "metadata": {
  "kernelspec": {
   "display_name": ".venv",
   "language": "python",
   "name": "python3"
  },
  "language_info": {
   "codemirror_mode": {
    "name": "ipython",
    "version": 3
   },
   "file_extension": ".py",
   "mimetype": "text/x-python",
   "name": "python",
   "nbconvert_exporter": "python",
   "pygments_lexer": "ipython3",
   "version": "3.11.9"
  }
 },
 "nbformat": 4,
 "nbformat_minor": 2
}
