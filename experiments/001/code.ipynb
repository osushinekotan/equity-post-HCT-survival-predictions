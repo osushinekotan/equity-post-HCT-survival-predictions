{
 "cells": [
  {
   "cell_type": "code",
   "execution_count": null,
   "metadata": {},
   "outputs": [],
   "source": [
    "import config\n",
    "import polars as pl\n",
    "\n",
    "df = pl.read_csv(config.COMP_DATASET_DIR / \"sample_submission.csv\")\n",
    "df.write_csv(config.OUTPUT_DIR / \"submission.csv\")"
   ]
  },
  {
   "cell_type": "code",
   "execution_count": null,
   "metadata": {},
   "outputs": [],
   "source": [
    "# if not config.IS_KAGGLE_ENV:\n",
    "#     from src.kaggle_utils.customhub import dataset_upload, model_upload\n",
    "\n",
    "#     model_upload(\n",
    "#         handle=config.ARTIFACTS_HANDLE,\n",
    "#         local_model_dir=config.OUTPUT_DIR,\n",
    "#         update=False,\n",
    "#     )\n",
    "#     dataset_upload(\n",
    "#         handle=config.CODES_HANDLE,\n",
    "#         local_dataset_dir=config.ROOT_DIR,\n",
    "#         update=True,\n",
    "#     )"
   ]
  },
  {
   "cell_type": "code",
   "execution_count": null,
   "metadata": {},
   "outputs": [],
   "source": []
  }
 ],
 "metadata": {
  "kernelspec": {
   "display_name": ".venv",
   "language": "python",
   "name": "python3"
  },
  "language_info": {
   "codemirror_mode": {
    "name": "ipython",
    "version": 3
   },
   "file_extension": ".py",
   "mimetype": "text/x-python",
   "name": "python",
   "nbconvert_exporter": "python",
   "pygments_lexer": "ipython3",
   "version": "3.11.9"
  }
 },
 "nbformat": 4,
 "nbformat_minor": 2
}
